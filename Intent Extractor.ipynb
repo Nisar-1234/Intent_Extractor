{
 "cells": [
  {
   "cell_type": "code",
   "execution_count": null,
   "metadata": {},
   "outputs": [],
   "source": [
    "Refrrence:- https://spacy.io/usage/processing-pipelines\n",
    "https://spacy.io/usage\n",
    "    \n",
    "python -m pip install -U pip                   # update pip\n",
    "git clone https://github.com/explosion/spaCy   # clone spaCy\n",
    "cd spaCy                                       # navigate into directory\n",
    "\n",
    "python -m venv .env                            # create environment in .env\n",
    "source .env/bin/activate                       # activate virtual environment\n",
    "export PYTHONPATH=`pwd`                        # set Python path to spaCy directory\n",
    "python setup.py build_ext --inplace "
   ]
  },
  {
   "cell_type": "code",
   "execution_count": null,
   "metadata": {},
   "outputs": [],
   "source": [
    "pip install -U spacy\n"
   ]
  },
  {
   "cell_type": "code",
   "execution_count": null,
   "metadata": {},
   "outputs": [],
   "source": [
    "import spacy\n",
    "import textacy\n",
    "spacy_stopwords = spacy.lang.en.stop_words.STOP_WORDS\n",
    "puncts=spacy.lang.punctuation.PUNCT\n",
    "\n",
    "nlp = spacy.load('en_core_web_sm')\n",
    "#doc = nlp(u\"get and provide me the order number, order date, ship date for the sales order number So2345\")\n",
    "\n",
    "\n",
    "\n",
    "# doc=nlp(input(str()))\n",
    "# #****************************************************************************************************************\n",
    "\n",
    "\n",
    "pattern = r'<VERB>?<ADV>*<VERB>+'\n",
    "doc = textacy.make_spacy_doc(doc, lang='en_core_web_sm')\n",
    "lists = textacy.extract.pos_regex_matches(doc, pattern)\n",
    "for list in lists:\n",
    "    print(\"intent\", list.text)\n",
    "\n",
    "\n",
    "\n",
    "# #************************************************************************************************************\n",
    "\n",
    "\n",
    "\n",
    "for token in doc:\n",
    "    print(token.text, end=' | ')\n",
    "print(3*'\\n.....')\n",
    "for ent in doc.ents:\n",
    "    print(ent.text+' - '+ent.label_+' - '+str(spacy.explain(ent.label_)))\n",
    "ents=[]\n",
    "for token in doc:\n",
    "     if not token.is_stop and not token.is_punct:\n",
    "            ents.append(token)\n",
    "print('entities', ents)\n",
    "\n"
   ]
  },
  {
   "cell_type": "code",
   "execution_count": null,
   "metadata": {},
   "outputs": [],
   "source": []
  },
  {
   "cell_type": "code",
   "execution_count": null,
   "metadata": {},
   "outputs": [],
   "source": []
  },
  {
   "cell_type": "code",
   "execution_count": null,
   "metadata": {},
   "outputs": [],
   "source": []
  }
 ],
 "metadata": {
  "kernelspec": {
   "display_name": "Python 3",
   "language": "python",
   "name": "python3"
  },
  "language_info": {
   "codemirror_mode": {
    "name": "ipython",
    "version": 3
   },
   "file_extension": ".py",
   "mimetype": "text/x-python",
   "name": "python",
   "nbconvert_exporter": "python",
   "pygments_lexer": "ipython3",
   "version": "3.7.3"
  }
 },
 "nbformat": 4,
 "nbformat_minor": 2
}
